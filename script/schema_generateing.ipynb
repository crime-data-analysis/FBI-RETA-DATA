{
 "cells": [
  {
   "cell_type": "code",
   "execution_count": 11,
   "metadata": {
    "collapsed": true
   },
   "outputs": [],
   "source": [
    "\n",
    "\n",
    "\n",
    "#home_dir = 'D:/SUMMER/RA/FBI_RETA_DATA-2015-06-04'\n",
    "#source_dir = home_dir + '/recoded-data/'\n",
    "\n",
    "a=open('schema.py','w')\n",
    "\n",
    "# GENERATE VARIABLE NAMES\n",
    "file_header_names = (\"id\", \"state\", \"ori_code\", \"city_group\", \"division\", \"year\", \"sequence\", \n",
    "  \"juv_age\", \"core_ci\", \"covered_by\", \"ori_group\", \"last_update\", \"field_office\", \"num_months\", \n",
    "  \"agency_count\", \"pop1\", \"county1\", \"msa1\", \"pop2\", \"county2\", \"msa2\", \"pop3\", \"county3\", \"msa3\", \n",
    "  \"county1_pop\", \"county2_pop\", \"county3_pop\", \"pop_source\", \"follow_up\", \"special_mail_group\", \n",
    "  \"special_mail_addr\", \"agency_name\", \"agency_state\", \"address1\", \"address2\", \"address3\", \n",
    "  \"address4\", \"zip\", \"old_pop_group\", \"unused_header\")\n",
    "monthly_header_names = (\"month_in\", \"date_last_update\", \n",
    "  \"card_0_type\", \"card_1_type\", \"card_2_type\", \"card_3_type\", \"card_4_type\", \n",
    "  \"card_0_pt\", \"card_1_pt\", \"card_2_pt\", \"card_3_pt\") \n",
    "crime_card_prefixes = (\"unfounded_\", \"actual_\", \"cleared_\", \"cleared_u18_\")\n",
    "cards_0123_names = (\"murder\", \"manslaughter\", \"rape_total\", \"rape_by_force\",  \"rape_attempt\", \n",
    "  \"robbery\", \"robbery_gun\", \"robbery_knife\", \"robbery_othweap\",  \"robbery_strong_arm\", \n",
    "  \"assault\", \"assault_gun\", \"assault_knife\", \"assault_othweap\", \"assault_hands\", \"assault_simple\", \n",
    "  \"burglary\", \"burglary_forcible_entry\", \"burglary_no_forcible_entry\", \"burglary_attempt\", \n",
    "  \"larceny\", \"motor_vehicle_theft\", \"auto_theft\", \"truck_bus_theft\", \"other_vehicle_theft\", \n",
    "  \"total_all_fields\", \"larceny_under_50_dollars\", \"unused\") \n",
    "cards =  tuple([prefix+offense for prefix in crime_card_prefixes for offense in cards_0123_names])\n",
    "card_4_names = (\"officers_killed_felony\", \"officers_killed_accident\", \"officers_assaulted\")\n",
    "card_names = monthly_header_names + cards + card_4_names\n",
    "month_prefixes = (\"jan_\", \"feb_\", \"mar_\", \"apr_\", \"may_\", \"jun_\", \"jul_\", \"aug_\", \"sep_\", \"oct_\", \"nov_\", \"dec_\")\n",
    "twelve_cards = tuple([month+cn for month in month_prefixes for cn in card_names])\n",
    "field_names = file_header_names + twelve_cards\n",
    "\n",
    "file_header_types = ([\"STRING\"] * 15) + ([\"INTEGER\"] + ([\"STRING\"] * 2)) * 3 + ([\"INTEGER\"] * 3) + ([\"STRING\"] * 13) \n",
    "monthly_header_types = ([\"STRING\"] * 11) \n",
    "cards_0123_types = ([\"INTEGER\"] * 28)\n",
    "card_4_types = ([\"STRING\"] * 3)\n",
    "mt = monthly_header_types + (cards_0123_types * 4) + card_4_types # monthly field types \n",
    "field_types =  file_header_types + (mt * 12)\n",
    "\n",
    "lines=('schema={        \\n',  '    \\'fields\\': [\\n')\n",
    "\n",
    "for i in range(0,1551):\n",
    "  lines=lines+tuple('    {\\'name\\':\\'%s\\', \\'type\\':\\'%s\\'},\\n' %(field_names[i],field_types[i]))\n",
    "\n",
    "lineslastline=lines+tuple('    {\\'name\\':\\'%s\\', \\'type\\':\\'%s\\'}\\n' %(field_names[1551],field_types[1551]))\n",
    "linesending=('    ]\\n','} ')\n",
    "\n",
    "finishedlines=lineslastline+linesending\n",
    "a.writelines(finishedlines)\n",
    "a.close()\n",
    "\n"
   ]
  }
 ],
 "metadata": {
  "kernelspec": {
   "display_name": "Python 2",
   "language": "python",
   "name": "python2"
  },
  "language_info": {
   "codemirror_mode": {
    "name": "ipython",
    "version": 2
   },
   "file_extension": ".py",
   "mimetype": "text/x-python",
   "name": "python",
   "nbconvert_exporter": "python",
   "pygments_lexer": "ipython2",
   "version": "2.7.13"
  }
 },
 "nbformat": 4,
 "nbformat_minor": 2
}
