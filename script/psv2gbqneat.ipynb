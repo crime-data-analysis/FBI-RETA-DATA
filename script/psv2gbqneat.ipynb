{
 "cells": [
  {
   "cell_type": "markdown",
   "metadata": {},
   "source": [
    "## getting the data from github\n",
    "the first thing we want to do is get the data from github.  The following code pulls down the zipped psv file "
   ]
  },
  {
   "cell_type": "markdown",
   "metadata": {},
   "source": [
    "## pushing the data into Google Big Query\n",
    "The next step is to push the data into google big query. \n",
    "You can use this method: https://cloud.google.com/bigquery/loading-data-into-bigquery#loaddatapostrequest\n",
    "Or you can figure out some other python-friendly, programmatic menthod.  \n",
    "Also, don't forget that we have a custom delimiter ('|'), that will have to be set with the configuration.load.fieldDelimiter option.  This defines the custom separator for fields in a CSV file.  The default value is a comma (','). Since ('|') is not a comman, we need to set this option. BigQuery converts the string to ISO-8859-1 encoding, and then uses the first byte of the encoded string to split the data in its raw, binary state. "
   ]
  },
  {
   "cell_type": "code",
   "execution_count": 30,
   "metadata": {
    "collapsed": true
   },
   "outputs": [],
   "source": [
    "import json\n",
    "from time import time\n",
    "import csv\n",
    "import zipfile, io, requests\n",
    "import httplib2\n",
    "from apiclient.discovery import build\n",
    "from oauth2client.client import flow_from_clientsecrets\n",
    "from oauth2client.service_account import ServiceAccountCredentials\n",
    "from oauth2client.file import Storage\n",
    "from oauth2client import tools\n",
    "import schema\n",
    "from apiclient.http import MediaFileUpload \n",
    "import os"
   ]
  },
  {
   "cell_type": "markdown",
   "metadata": {},
   "source": [
    "### get all the dataset downloaded& schema prepared"
   ]
  },
  {
   "cell_type": "code",
   "execution_count": 8,
   "metadata": {
    "collapsed": false
   },
   "outputs": [],
   "source": [
    "#Schema Generating schema.py imported\n",
    "SCHEMA=schema.schema\n",
    "#get the csv files unzipped and stored locally\n",
    "for i in range(1960,2013):\n",
    "    request = requests.get('https://github.com/estheryou/fbi-reta-data/blob/master/recoded-data/reta_%s_data.csv.zip?raw=true'%(i))\n",
    "    zfile = zipfile.ZipFile(io.BytesIO(request.content)) \n",
    "    test = zfile.open('reta_%s_data.csv'%(i)).read()\n",
    "    a=open('reta_%s.csv'%i, 'w') \n",
    "    a.write(test.decode(\"utf-8\")) \n",
    "    a.close()"
   ]
  },
  {
   "cell_type": "markdown",
   "metadata": {},
   "source": [
    "### Project Information"
   ]
  },
  {
   "cell_type": "code",
   "execution_count": 17,
   "metadata": {
    "collapsed": true
   },
   "outputs": [],
   "source": [
    "project_id='my-fbi-resume-project'\n",
    "dataset_id='the_data_set_from_fbi_test'"
   ]
  },
  {
   "cell_type": "markdown",
   "metadata": {},
   "source": [
    "###  Step1 Oauth2.0 Authorization\n",
    "reference:https://developers.google.com/api-client-library/python/guide/aaa_oauth\n",
    "scope:https://developers.google.com/identity/protocols/googlescopes\n"
   ]
  },
  {
   "cell_type": "code",
   "execution_count": 10,
   "metadata": {
    "collapsed": true
   },
   "outputs": [],
   "source": [
    "def auth():\n",
    "    #Thanks to Stackoverflow\n",
    "    scopes = ['https://www.googleapis.com/auth/bigquery']## looks like a list,might append more\n",
    "    credentials = ServiceAccountCredentials.from_json_keyfile_name('My FBI resume.json', scopes)\n",
    "\n",
    "    http0 = httplib2.Http()\n",
    "    http = credentials.authorize(http0)\n",
    "    #could save token just being lazy here\n",
    "    #the one with the credential info\n",
    "    Big_Query_service= build('bigquery', 'v2', http=http)\n",
    "    JOBS=Big_Query_service.jobs()\n",
    "    return JOBS"
   ]
  },
  {
   "cell_type": "code",
   "execution_count": 11,
   "metadata": {
    "collapsed": false
   },
   "outputs": [],
   "source": [
    "Bigquery=auth()"
   ]
  },
  {
   "cell_type": "markdown",
   "metadata": {},
   "source": [
    "### Step2 Upload the datsets into Google Bigquery"
   ]
  },
  {
   "cell_type": "code",
   "execution_count": 1,
   "metadata": {
    "collapsed": false
   },
   "outputs": [],
   "source": [
    "def upload(Jobs):\n",
    "    t0 = time()\n",
    "    for i in range(1960,2013):\n",
    "        TABLE_ID='reta_%s'%i\n",
    "        job_id='job_id_t%s'%i\n",
    "        load={\n",
    "          'destinationTable': {\n",
    "          'projectId': project_id,\n",
    "          'datasetId': dataset_id,\n",
    "          'tableId': TABLE_ID},\n",
    "          'schema':SCHEMA\n",
    "           }\n",
    "        upload = MediaFileUpload('reta_%s.csv'%(i), # sample.csv is from the bigquerye2e ,\n",
    "                           mimetype='application/octet-stream',\n",
    "                           # This enables resumable uploads.\n",
    "                           resumable=False) #post mode s\n",
    "        \n",
    "        Jobs.insert(projectId=project_id,\n",
    "                     body={\n",
    "                            \"jobReference\": {\"jobId\": job_id} ,\n",
    "                            \"configuration\": {\n",
    "                            'sourceUris': ('reta_%s.csv'%i),\n",
    "                            \"load\": load\n",
    "                    }},media_body=upload).execute()\n",
    "    print \"time:\", round(time()-t0, 3), \"s\""
   ]
  },
  {
   "cell_type": "code",
   "execution_count": 27,
   "metadata": {
    "collapsed": false
   },
   "outputs": [
    {
     "name": "stdout",
     "output_type": "stream",
     "text": [
      "training time: 16183.883 s\n"
     ]
    }
   ],
   "source": [
    "upload(Bigquery)"
   ]
  },
  {
   "cell_type": "markdown",
   "metadata": {},
   "source": [
    "### Step3 Remove the local files otherwise waste of space"
   ]
  },
  {
   "cell_type": "code",
   "execution_count": 40,
   "metadata": {
    "collapsed": true
   },
   "outputs": [],
   "source": [
    "def remove_local():\n",
    "    \n",
    "    root=os.getcwd()\n",
    "    for i in range(1960,2013):\n",
    "        print root+'/reta_%s.csv'%(i)\n",
    "        os.remove(root+'/reta_%s.csv'%(i))\n",
    "        "
   ]
  },
  {
   "cell_type": "markdown",
   "metadata": {},
   "source": [
    "## The Main Function"
   ]
  },
  {
   "cell_type": "code",
   "execution_count": 150,
   "metadata": {
    "collapsed": true
   },
   "outputs": [],
   "source": [
    "def main():\n",
    "    auth()\n",
    "    upload()\n",
    "    remove_local()"
   ]
  }
 ],
 "metadata": {
  "kernelspec": {
   "display_name": "Python 2",
   "language": "python",
   "name": "python2"
  },
  "language_info": {
   "codemirror_mode": {
    "name": "ipython",
    "version": 2
   },
   "file_extension": ".py",
   "mimetype": "text/x-python",
   "name": "python",
   "nbconvert_exporter": "python",
   "pygments_lexer": "ipython2",
   "version": "2.7.13"
  }
 },
 "nbformat": 4,
 "nbformat_minor": 0
}
