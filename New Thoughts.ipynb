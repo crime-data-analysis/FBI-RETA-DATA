{
 "cells": [
  {
   "cell_type": "markdown",
   "metadata": {},
   "source": [
    "# New Thoughts"
   ]
  },
  {
   "cell_type": "markdown",
   "metadata": {},
   "source": [
    "### 1. set up the Oauth 2.0"
   ]
  },
  {
   "cell_type": "markdown",
   "metadata": {},
   "source": [
    "    1.1 log in to tht Google Cloud Console\n",
    "    1.2 select \"API &Service\"\n",
    "    1.3 select \"Credentials\"\n",
    "    1.4 clikc blue button 'Create credentials'\n",
    "    1.5 select \"service account key\"\n",
    "    1.6 create service account key\n",
    "    1.7 type in the Sevice acount name\n",
    "    1.8 select the key type(I chose JSON) and the ownership(I chose owner of project)\n",
    "    1.9 then you will get the JSON key document and message like below\n",
    "![alt text](https://c1.staticflickr.com/5/4386/35741967833_75d288b622.jpg\"Logo Title Text 1\")\n"
   ]
  },
  {
   "cell_type": "markdown",
   "metadata": {},
   "source": [
    "### 2. import the long schema by first creating a .py file and then import"
   ]
  },
  {
   "cell_type": "markdown",
   "metadata": {},
   "source": [
    "   2.1 change the schemagenerateing.py to create \"schema.py\" \n",
    "![alt text](https://c1.staticflickr.com/5/4399/36413367391_4e46d3d9c0_m.jpg\"Logo Title Text 1\")\n",
    "    2.2 run the script and then use \"import schema\"\n",
    " ![alt text](https://c1.staticflickr.com/5/4406/35716396314_b02a75659f.jpg\"Logo Title Text 1\")  \n",
    "    2.3 all set!\n",
    "    \n",
    "![alt text](https://c1.staticflickr.com/5/4390/36551458645_72ee6e6928.jpg\"Logo Title Text 1\")\n",
    "    2.4 \"import schema\" or \"from schema import schema\" (here schema is a dictionary)\n"
   ]
  },
  {
   "cell_type": "markdown",
   "metadata": {},
   "source": [
    "### 3. release the local room "
   ]
  },
  {
   "cell_type": "markdown",
   "metadata": {
    "collapsed": true
   },
   "source": [
    " simply import os and use os.remove()"
   ]
  },
  {
   "cell_type": "code",
   "execution_count": null,
   "metadata": {
    "collapsed": true
   },
   "outputs": [],
   "source": []
  }
 ],
 "metadata": {
  "kernelspec": {
   "display_name": "Python 2",
   "language": "python",
   "name": "python2"
  },
  "language_info": {
   "codemirror_mode": {
    "name": "ipython",
    "version": 2
   },
   "file_extension": ".py",
   "mimetype": "text/x-python",
   "name": "python",
   "nbconvert_exporter": "python",
   "pygments_lexer": "ipython2",
   "version": "2.7.13"
  }
 },
 "nbformat": 4,
 "nbformat_minor": 2
}
